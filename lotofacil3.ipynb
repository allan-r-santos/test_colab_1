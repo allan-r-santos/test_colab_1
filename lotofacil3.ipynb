{
  "nbformat": 4,
  "nbformat_minor": 0,
  "metadata": {
    "colab": {
      "name": "lotofacil3.ipynb",
      "provenance": [],
      "collapsed_sections": [],
      "authorship_tag": "ABX9TyP9nv4oYdY8FqB+iqYNjIPY",
      "include_colab_link": true
    },
    "kernelspec": {
      "name": "python3",
      "display_name": "Python 3"
    },
    "language_info": {
      "name": "python"
    }
  },
  "cells": [
    {
      "cell_type": "markdown",
      "metadata": {
        "id": "view-in-github",
        "colab_type": "text"
      },
      "source": [
        "<a href=\"https://colab.research.google.com/github/allan-r-santos/test_colab_1/blob/main/lotofacil3.ipynb\" target=\"_parent\"><img src=\"https://colab.research.google.com/assets/colab-badge.svg\" alt=\"Open In Colab\"/></a>"
      ]
    },
    {
      "cell_type": "code",
      "metadata": {
        "id": "QR2-BPtzrE9V"
      },
      "source": [
        "import random\n",
        "from random import sample\n",
        "\n",
        "jogos = int(input('Quantos jogos aleatórios gostaria de fazer? '))\n",
        "\n",
        "while jogos > 0:\n",
        "\n",
        "  x = sample(range(1, 25),15)\n",
        "  x.sort()\n",
        "  print(x)\n",
        "  jogos = jogos - 1\n",
        "  "
      ],
      "execution_count": null,
      "outputs": []
    }
  ]
}