{
  "nbformat": 4,
  "nbformat_minor": 0,
  "metadata": {
    "colab": {
      "name": "lotofacil.ipynb",
      "provenance": [],
      "collapsed_sections": [],
      "authorship_tag": "ABX9TyOeZVdSJHkLO/oskTt/pKhr",
      "include_colab_link": true
    },
    "kernelspec": {
      "name": "python3",
      "display_name": "Python 3"
    },
    "language_info": {
      "name": "python"
    }
  },
  "cells": [
    {
      "cell_type": "markdown",
      "metadata": {
        "id": "view-in-github",
        "colab_type": "text"
      },
      "source": [
        "<a href=\"https://colab.research.google.com/github/allan-r-santos/test_colab_1/blob/main/lotofacil.ipynb\" target=\"_parent\"><img src=\"https://colab.research.google.com/assets/colab-badge.svg\" alt=\"Open In Colab\"/></a>"
      ]
    },
    {
      "cell_type": "code",
      "metadata": {
        "id": "G7Gu2WoA1EsN",
        "colab": {
          "base_uri": "https://localhost:8080/"
        },
        "outputId": "91f4c16d-5b11-4733-dcf0-23b6405714fa"
      },
      "source": [
        "import random\n",
        "\n",
        "x = random.choices(range(1, 25), k=15)\n",
        "\n",
        "x.sort()\n",
        "print(x)\n"
      ],
      "execution_count": null,
      "outputs": [
        {
          "output_type": "stream",
          "name": "stdout",
          "text": [
            "[2, 3, 4, 8, 8, 9, 10, 11, 12, 14, 16, 17, 23, 23, 24]\n"
          ]
        }
      ]
    }
  ]
}