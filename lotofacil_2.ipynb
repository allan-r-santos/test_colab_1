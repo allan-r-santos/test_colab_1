{
  "nbformat": 4,
  "nbformat_minor": 0,
  "metadata": {
    "colab": {
      "name": "lotofacil.ipynb",
      "provenance": [],
      "collapsed_sections": [],
      "authorship_tag": "ABX9TyPhGR9n/9c5LYfe8yuCL8q2",
      "include_colab_link": true
    },
    "kernelspec": {
      "name": "python3",
      "display_name": "Python 3"
    },
    "language_info": {
      "name": "python"
    }
  },
  "cells": [
    {
      "cell_type": "markdown",
      "metadata": {
        "id": "view-in-github",
        "colab_type": "text"
      },
      "source": [
        "<a href=\"https://colab.research.google.com/github/allan-r-santos/test_colab_1/blob/main/lotofacil_2.ipynb\" target=\"_parent\"><img src=\"https://colab.research.google.com/assets/colab-badge.svg\" alt=\"Open In Colab\"/></a>"
      ]
    },
    {
      "cell_type": "code",
      "metadata": {
        "id": "G7Gu2WoA1EsN",
        "colab": {
          "base_uri": "https://localhost:8080/"
        },
        "outputId": "3c478a8e-9791-4f7c-fec1-ca8ecf4d6447"
      },
      "source": [
        "import random\n",
        "from random import sample\n",
        "\n",
        "x = sample(range(1, 25),15)\n",
        "x.sort()\n",
        "\n",
        "print(x)\n"
      ],
      "execution_count": 7,
      "outputs": [
        {
          "output_type": "stream",
          "name": "stdout",
          "text": [
            "[2, 3, 4, 6, 9, 10, 12, 14, 15, 17, 19, 20, 21, 23, 24]\n"
          ]
        }
      ]
    }
  ]
}