{
  "nbformat": 4,
  "nbformat_minor": 0,
  "metadata": {
    "colab": {
      "name": "calculadora_eletrica.ipynb",
      "provenance": [],
      "collapsed_sections": [],
      "authorship_tag": "ABX9TyPj7aVajpXS1gLxOFPmGMkv",
      "include_colab_link": true
    },
    "kernelspec": {
      "name": "python3",
      "display_name": "Python 3"
    },
    "language_info": {
      "name": "python"
    }
  },
  "cells": [
    {
      "cell_type": "markdown",
      "metadata": {
        "id": "view-in-github",
        "colab_type": "text"
      },
      "source": [
        "<a href=\"https://colab.research.google.com/github/allan-r-santos/test_colab_1/blob/main/calculadora_eletrica.ipynb\" target=\"_parent\"><img src=\"https://colab.research.google.com/assets/colab-badge.svg\" alt=\"Open In Colab\"/></a>"
      ]
    },
    {
      "cell_type": "code",
      "execution_count": 30,
      "metadata": {
        "colab": {
          "base_uri": "https://localhost:8080/"
        },
        "id": "SFacFE6dvw6L",
        "outputId": "6bf805b1-1c81-4af0-948a-0610f164290c"
      },
      "outputs": [
        {
          "output_type": "stream",
          "name": "stdout",
          "text": [
            "CALCULADORA ELÉTRICA\n",
            "\n",
            "escolha uma das opções abaixo:\n",
            "1-CORRENTE\n",
            "2-RESISTENCIA\n",
            "3-TENSÃO\n",
            "4-POTÊNCIA\n",
            " 1\n",
            "DIGITE A TENSÃO 220\n",
            "DIGITE A RESISTÊNCIA 400\n",
            "A CORRENTE SERÁ DE:  0.55  AMPERES\n",
            "\n",
            "GOSTARIA DE FAZER UM NOVO CÁLCULO\n",
            " S - SIM\n",
            " N - NÃO\n",
            "s\n",
            "CALCULADORA ELÉTRICA\n",
            "\n",
            "escolha uma das opções abaixo:\n",
            "1-CORRENTE\n",
            "2-RESISTENCIA\n",
            "3-TENSÃO\n",
            "4-POTÊNCIA\n",
            " 4\n",
            "DIGITE A TENSÃO 220\n",
            "DIGITE A CORRENTE 16\n",
            "A POTÊNCIA SERÁ DE:  3520.0  WATTS\n",
            "\n",
            "GOSTARIA DE FAZER UM NOVO CÁLCULO\n",
            " S - SIM\n",
            " N - NÃO\n",
            "n\n",
            "FINALIZANDO CÁLCULOS\n"
          ]
        }
      ],
      "source": [
        "i = 's'\n",
        "\n",
        "while (i == 's'):\n",
        "\n",
        "  calc = int(input('CALCULADORA ELÉTRICA\\n\\nescolha uma das opções abaixo:\\n1-CORRENTE\\n2-RESISTENCIA\\n3-TENSÃO\\n4-POTÊNCIA\\n '))\n",
        "\n",
        "\n",
        "\n",
        "  if calc == 1:\n",
        "\n",
        "    x = float(input('DIGITE A TENSÃO '))\n",
        "    y = float(input('DIGITE A RESISTÊNCIA '))\n",
        "    print('A CORRENTE SERÁ DE: ', x / y, ' AMPERES')\n",
        "\n",
        "\n",
        "  if calc == 2:\n",
        "\n",
        "    x = float(input('DIGITE A TENSÃO '))\n",
        "    y = float(input('DIGITE A CORRENTE '))\n",
        "    print('A CORRENTE SERÁ DE: ', x / y, ' OHMS')\n",
        "\n",
        "\n",
        "  if calc == 3:\n",
        "\n",
        "    x = float(input('DIGITE A RESISTÊNCIA DO CIRCUITO '))\n",
        "    y = float(input('DIGITE A CORRENTE '))\n",
        "    print('A TENSÃO SERÁ DE: ', x * y, ' VOLTS')\n",
        "\n",
        "\n",
        "  if calc == 4:\n",
        "\n",
        "    x = float(input('DIGITE A TENSÃO '))\n",
        "    y = float(input('DIGITE A CORRENTE '))\n",
        "    print('A POTÊNCIA SERÁ DE: ', x * y, ' WATTS')\n",
        "\n",
        "\n",
        "  i = input('\\nGOSTARIA DE FAZER UM NOVO CÁLCULO\\n S - SIM\\n N - NÃO\\n')\n",
        "\n",
        "if (i == 'n'):\n",
        "  print('FINALIZANDO CÁLCULOS')\n",
        "\n",
        "\n",
        "\n",
        "\n"
      ]
    }
  ]
}